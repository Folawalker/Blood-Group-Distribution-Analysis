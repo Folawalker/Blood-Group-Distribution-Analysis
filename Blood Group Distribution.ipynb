{
 "cells": [
  {
   "cell_type": "markdown",
   "id": "35cfc2f6-fa49-44cf-a298-da7498c60d3d",
   "metadata": {},
   "source":
  },
  {
   "cell_type": "code",
   "execution_count": 59,
   "id": "afd169bf-d375-4edd-b056-ac9f0491ab09",
   "metadata": {},
   "outputs": [],
   "source": [
    "from csv import reader\n",
    "import pandas as pd\n",
    "import seaborn as sns\n",
    "import matplotlib.pyplot as plt\n",
    "import numpy as np\n",
    "import plotly.express as px"
   ]
  },
  {
   "cell_type": "code",
   "execution_count": 60,
   "id": "d9e07187-8089-4e84-96a5-4e700a1a6d33",
   "metadata": {},
   "outputs": [],
   "source": [
    "blood_distribution = pd.read_csv('blood_type_distribution_by_country.csv', encoding='latin1')"
   ]
  },
  {
   "cell_type": "code",
   "execution_count": 61,
   "id": "779b06d0-2e11-4b50-8318-61c1f732935a",
   "metadata": {},
   "outputs": [
    {
     "data": {
      "text/html": [
       "<div>\n",
       "<style scoped>\n",
       "    .dataframe tbody tr th:only-of-type {\n",
       "        vertical-align: middle;\n",
       "    }\n",
       "\n",
       "    .dataframe tbody tr th {\n",
       "        vertical-align: top;\n",
       "    }\n",
       "\n",
       "    .dataframe thead th {\n",
       "        text-align: right;\n",
       "    }\n",
       "</style>\n",
       "<table border=\"1\" class=\"dataframe\">\n",
       "  <thead>\n",
       "    <tr style=\"text-align: right;\">\n",
       "      <th></th>\n",
       "      <th>Country</th>\n",
       "      <th>Continent</th>\n",
       "      <th>Population</th>\n",
       "      <th>O+</th>\n",
       "      <th>A+</th>\n",
       "      <th>B+</th>\n",
       "      <th>AB+</th>\n",
       "      <th>O-</th>\n",
       "      <th>A-</th>\n",
       "      <th>B-</th>\n",
       "      <th>AB-</th>\n",
       "    </tr>\n",
       "  </thead>\n",
       "  <tbody>\n",
       "    <tr>\n",
       "      <th>0</th>\n",
       "      <td>Albania</td>\n",
       "      <td>Europe</td>\n",
       "      <td>3074579</td>\n",
       "      <td>34.10</td>\n",
       "      <td>31.20</td>\n",
       "      <td>14.5</td>\n",
       "      <td>5.20</td>\n",
       "      <td>6.00</td>\n",
       "      <td>5.50</td>\n",
       "      <td>2.60</td>\n",
       "      <td>0.90</td>\n",
       "    </tr>\n",
       "    <tr>\n",
       "      <th>1</th>\n",
       "      <td>Algeria</td>\n",
       "      <td>Africa</td>\n",
       "      <td>43576691</td>\n",
       "      <td>40.00</td>\n",
       "      <td>30.00</td>\n",
       "      <td>15.0</td>\n",
       "      <td>4.25</td>\n",
       "      <td>6.60</td>\n",
       "      <td>2.30</td>\n",
       "      <td>1.10</td>\n",
       "      <td>0.75</td>\n",
       "    </tr>\n",
       "    <tr>\n",
       "      <th>2</th>\n",
       "      <td>Argentina</td>\n",
       "      <td>South America</td>\n",
       "      <td>45479118</td>\n",
       "      <td>50.34</td>\n",
       "      <td>31.09</td>\n",
       "      <td>8.2</td>\n",
       "      <td>2.16</td>\n",
       "      <td>4.29</td>\n",
       "      <td>2.98</td>\n",
       "      <td>0.74</td>\n",
       "      <td>0.20</td>\n",
       "    </tr>\n",
       "    <tr>\n",
       "      <th>3</th>\n",
       "      <td>Armenia</td>\n",
       "      <td>Europe</td>\n",
       "      <td>3021324</td>\n",
       "      <td>29.00</td>\n",
       "      <td>46.30</td>\n",
       "      <td>12.0</td>\n",
       "      <td>5.60</td>\n",
       "      <td>2.00</td>\n",
       "      <td>3.70</td>\n",
       "      <td>1.00</td>\n",
       "      <td>0.40</td>\n",
       "    </tr>\n",
       "    <tr>\n",
       "      <th>4</th>\n",
       "      <td>Australia</td>\n",
       "      <td>Austrlia</td>\n",
       "      <td>25466459</td>\n",
       "      <td>38.00</td>\n",
       "      <td>32.00</td>\n",
       "      <td>12.0</td>\n",
       "      <td>4.00</td>\n",
       "      <td>7.00</td>\n",
       "      <td>6.00</td>\n",
       "      <td>2.00</td>\n",
       "      <td>1.00</td>\n",
       "    </tr>\n",
       "  </tbody>\n",
       "</table>\n",
       "</div>"
      ],
      "text/plain": [
       "      Country      Continent  Population     O+     A+    B+   AB+    O-  \\\n",
       "0     Albania         Europe     3074579  34.10  31.20  14.5  5.20  6.00   \n",
       "1     Algeria         Africa    43576691  40.00  30.00  15.0  4.25  6.60   \n",
       "2   Argentina  South America    45479118  50.34  31.09   8.2  2.16  4.29   \n",
       "3     Armenia         Europe     3021324  29.00  46.30  12.0  5.60  2.00   \n",
       "4   Australia       Austrlia    25466459  38.00  32.00  12.0  4.00  7.00   \n",
       "\n",
       "     A-    B-   AB-  \n",
       "0  5.50  2.60  0.90  \n",
       "1  2.30  1.10  0.75  \n",
       "2  2.98  0.74  0.20  \n",
       "3  3.70  1.00  0.40  \n",
       "4  6.00  2.00  1.00  "
      ]
     },
     "execution_count": 61,
     "metadata": {},
     "output_type": "execute_result"
    }
   ],
   "source": [
    "blood_distribution.head()"
   ]
  },
  {
   "cell_type": "code",
   "execution_count": 62,
   "id": "81f3dafe-06ed-48d3-887c-7ca177e625f6",
   "metadata": {},
   "outputs": [
    {
     "name": "stdout",
     "output_type": "stream",
     "text": [
      "<class 'pandas.core.frame.DataFrame'>\n",
      "RangeIndex: 125 entries, 0 to 124\n",
      "Data columns (total 11 columns):\n",
      " #   Column      Non-Null Count  Dtype  \n",
      "---  ------      --------------  -----  \n",
      " 0   Country     125 non-null    object \n",
      " 1   Continent   125 non-null    object \n",
      " 2   Population  125 non-null    int64  \n",
      " 3   O+          125 non-null    float64\n",
      " 4   A+          125 non-null    float64\n",
      " 5   B+          125 non-null    float64\n",
      " 6   AB+         125 non-null    float64\n",
      " 7   O-          125 non-null    float64\n",
      " 8   A-          125 non-null    float64\n",
      " 9   B-          125 non-null    float64\n",
      " 10  AB-         125 non-null    float64\n",
      "dtypes: float64(8), int64(1), object(2)\n",
      "memory usage: 10.9+ KB\n"
     ]
    }
   ],
   "source": [
    "blood_distribution.info()"
   ]
  },
  {
   "cell_type": "code",
   "execution_count": 63,
   "id": "f6fafa7f-f7a4-4608-a84b-7c8ce15e0459",
   "metadata": {},
   "outputs": [
    {
     "data": {
      "text/html": [
       "<div>\n",
       "<style scoped>\n",
       "    .dataframe tbody tr th:only-of-type {\n",
       "        vertical-align: middle;\n",
       "    }\n",
       "\n",
       "    .dataframe tbody tr th {\n",
       "        vertical-align: top;\n",
       "    }\n",
       "\n",
       "    .dataframe thead th {\n",
       "        text-align: right;\n",
       "    }\n",
       "</style>\n",
       "<table border=\"1\" class=\"dataframe\">\n",
       "  <thead>\n",
       "    <tr style=\"text-align: right;\">\n",
       "      <th></th>\n",
       "      <th>Population</th>\n",
       "      <th>O+</th>\n",
       "      <th>A+</th>\n",
       "      <th>B+</th>\n",
       "      <th>AB+</th>\n",
       "      <th>O-</th>\n",
       "      <th>A-</th>\n",
       "      <th>B-</th>\n",
       "      <th>AB-</th>\n",
       "    </tr>\n",
       "  </thead>\n",
       "  <tbody>\n",
       "    <tr>\n",
       "      <th>count</th>\n",
       "      <td>1.250000e+02</td>\n",
       "      <td>125.00000</td>\n",
       "      <td>125.000000</td>\n",
       "      <td>125.000000</td>\n",
       "      <td>125.000000</td>\n",
       "      <td>125.000000</td>\n",
       "      <td>125.000000</td>\n",
       "      <td>125.000000</td>\n",
       "      <td>125.00000</td>\n",
       "    </tr>\n",
       "    <tr>\n",
       "      <th>mean</th>\n",
       "      <td>5.793159e+07</td>\n",
       "      <td>40.30632</td>\n",
       "      <td>29.236160</td>\n",
       "      <td>16.228720</td>\n",
       "      <td>4.614640</td>\n",
       "      <td>4.206560</td>\n",
       "      <td>3.349440</td>\n",
       "      <td>1.360240</td>\n",
       "      <td>0.46680</td>\n",
       "    </tr>\n",
       "    <tr>\n",
       "      <th>std</th>\n",
       "      <td>1.770045e+08</td>\n",
       "      <td>9.95458</td>\n",
       "      <td>6.538495</td>\n",
       "      <td>7.553836</td>\n",
       "      <td>2.252655</td>\n",
       "      <td>2.853794</td>\n",
       "      <td>2.514111</td>\n",
       "      <td>0.859088</td>\n",
       "      <td>0.37587</td>\n",
       "    </tr>\n",
       "    <tr>\n",
       "      <th>min</th>\n",
       "      <td>3.913700e+04</td>\n",
       "      <td>27.00000</td>\n",
       "      <td>14.000000</td>\n",
       "      <td>4.720000</td>\n",
       "      <td>0.500000</td>\n",
       "      <td>0.060000</td>\n",
       "      <td>0.010000</td>\n",
       "      <td>0.010000</td>\n",
       "      <td>0.01000</td>\n",
       "    </tr>\n",
       "    <tr>\n",
       "      <th>25%</th>\n",
       "      <td>5.469612e+06</td>\n",
       "      <td>32.53000</td>\n",
       "      <td>24.150000</td>\n",
       "      <td>10.000000</td>\n",
       "      <td>2.600000</td>\n",
       "      <td>2.000000</td>\n",
       "      <td>1.000000</td>\n",
       "      <td>0.610000</td>\n",
       "      <td>0.10000</td>\n",
       "    </tr>\n",
       "    <tr>\n",
       "      <th>50%</th>\n",
       "      <td>1.209464e+07</td>\n",
       "      <td>38.00000</td>\n",
       "      <td>30.000000</td>\n",
       "      <td>15.000000</td>\n",
       "      <td>4.200000</td>\n",
       "      <td>4.290000</td>\n",
       "      <td>2.790000</td>\n",
       "      <td>1.300000</td>\n",
       "      <td>0.40000</td>\n",
       "    </tr>\n",
       "    <tr>\n",
       "      <th>75%</th>\n",
       "      <td>4.471214e+07</td>\n",
       "      <td>46.80000</td>\n",
       "      <td>34.000000</td>\n",
       "      <td>21.060000</td>\n",
       "      <td>6.280000</td>\n",
       "      <td>6.000000</td>\n",
       "      <td>6.000000</td>\n",
       "      <td>2.000000</td>\n",
       "      <td>0.90000</td>\n",
       "    </tr>\n",
       "    <tr>\n",
       "      <th>max</th>\n",
       "      <td>1.397898e+09</td>\n",
       "      <td>75.00000</td>\n",
       "      <td>46.300000</td>\n",
       "      <td>36.800000</td>\n",
       "      <td>11.320000</td>\n",
       "      <td>14.100000</td>\n",
       "      <td>8.100000</td>\n",
       "      <td>3.130000</td>\n",
       "      <td>1.20000</td>\n",
       "    </tr>\n",
       "  </tbody>\n",
       "</table>\n",
       "</div>"
      ],
      "text/plain": [
       "         Population         O+          A+          B+         AB+  \\\n",
       "count  1.250000e+02  125.00000  125.000000  125.000000  125.000000   \n",
       "mean   5.793159e+07   40.30632   29.236160   16.228720    4.614640   \n",
       "std    1.770045e+08    9.95458    6.538495    7.553836    2.252655   \n",
       "min    3.913700e+04   27.00000   14.000000    4.720000    0.500000   \n",
       "25%    5.469612e+06   32.53000   24.150000   10.000000    2.600000   \n",
       "50%    1.209464e+07   38.00000   30.000000   15.000000    4.200000   \n",
       "75%    4.471214e+07   46.80000   34.000000   21.060000    6.280000   \n",
       "max    1.397898e+09   75.00000   46.300000   36.800000   11.320000   \n",
       "\n",
       "               O-          A-          B-        AB-  \n",
       "count  125.000000  125.000000  125.000000  125.00000  \n",
       "mean     4.206560    3.349440    1.360240    0.46680  \n",
       "std      2.853794    2.514111    0.859088    0.37587  \n",
       "min      0.060000    0.010000    0.010000    0.01000  \n",
       "25%      2.000000    1.000000    0.610000    0.10000  \n",
       "50%      4.290000    2.790000    1.300000    0.40000  \n",
       "75%      6.000000    6.000000    2.000000    0.90000  \n",
       "max     14.100000    8.100000    3.130000    1.20000  "
      ]
     },
     "execution_count": 63,
     "metadata": {},
     "output_type": "execute_result"
    }
   ],
   "source": [
    "blood_distribution.describe()"
   ]
  },
  {
   "cell_type": "code",
   "execution_count": 64,
   "id": "4bb68bac-5e22-4c65-8e62-33b94ba69e8f",
   "metadata": {},
   "outputs": [
    {
     "data": {
      "text/plain": [
       "0      False\n",
       "1      False\n",
       "2      False\n",
       "3      False\n",
       "4      False\n",
       "       ...  \n",
       "120    False\n",
       "121    False\n",
       "122    False\n",
       "123    False\n",
       "124    False\n",
       "Length: 125, dtype: bool"
      ]
     },
     "execution_count": 64,
     "metadata": {},
     "output_type": "execute_result"
    }
   ],
   "source": [
    "blood_distribution.duplicated()"
   ]
  },
  {
   "cell_type": "code",
   "execution_count": 65,
   "id": "3ceb2493-1bb9-4425-9834-30946fad6163",
   "metadata": {},
   "outputs": [
    {
     "name": "stdout",
     "output_type": "stream",
     "text": [
      "7241448360\n"
     ]
    }
   ],
   "source": [
    "total_population = blood_distribution['Population'].sum()\n",
    "print(total_population)"
   ]
  },
  {
   "cell_type": "markdown",
   "id": "a0b8860a-1bd6-42ab-a2b8-9d99722e017d",
   "metadata": {},
   "source": [
    "# Top 10 Countries with the Highest Percentage of Each Blood Group"
   ]
  },
  {
   "cell_type": "code",
   "execution_count": 67,
   "id": "61acfc79-0564-4a0e-be5d-456edb88edea",
   "metadata": {},
   "outputs": [
    {
     "ename": "KeyError",
     "evalue": "\"['Country/Dependency'] not in index\"",
     "output_type": "error",
     "traceback": [
      "\u001b[1;31m---------------------------------------------------------------------------\u001b[0m",
      "\u001b[1;31mKeyError\u001b[0m                                  Traceback (most recent call last)",
      "Cell \u001b[1;32mIn[67], line 1\u001b[0m\n\u001b[1;32m----> 1\u001b[0m blood_distribution[[\u001b[38;5;124m'\u001b[39m\u001b[38;5;124mCountry/Dependency\u001b[39m\u001b[38;5;124m'\u001b[39m, \u001b[38;5;124m'\u001b[39m\u001b[38;5;124mContinent\u001b[39m\u001b[38;5;124m'\u001b[39m, \u001b[38;5;124m'\u001b[39m\u001b[38;5;124mO+\u001b[39m\u001b[38;5;124m'\u001b[39m]]\u001b[38;5;241m.\u001b[39msort_values(by\u001b[38;5;241m=\u001b[39m\u001b[38;5;124m'\u001b[39m\u001b[38;5;124mO+\u001b[39m\u001b[38;5;124m'\u001b[39m, ascending\u001b[38;5;241m=\u001b[39m\u001b[38;5;28;01mFalse\u001b[39;00m)\u001b[38;5;241m.\u001b[39mhead(\u001b[38;5;241m10\u001b[39m)\n",
      "File \u001b[1;32m~\\anaconda3\\Lib\\site-packages\\pandas\\core\\frame.py:4108\u001b[0m, in \u001b[0;36mDataFrame.__getitem__\u001b[1;34m(self, key)\u001b[0m\n\u001b[0;32m   4106\u001b[0m     \u001b[38;5;28;01mif\u001b[39;00m is_iterator(key):\n\u001b[0;32m   4107\u001b[0m         key \u001b[38;5;241m=\u001b[39m \u001b[38;5;28mlist\u001b[39m(key)\n\u001b[1;32m-> 4108\u001b[0m     indexer \u001b[38;5;241m=\u001b[39m \u001b[38;5;28mself\u001b[39m\u001b[38;5;241m.\u001b[39mcolumns\u001b[38;5;241m.\u001b[39m_get_indexer_strict(key, \u001b[38;5;124m\"\u001b[39m\u001b[38;5;124mcolumns\u001b[39m\u001b[38;5;124m\"\u001b[39m)[\u001b[38;5;241m1\u001b[39m]\n\u001b[0;32m   4110\u001b[0m \u001b[38;5;66;03m# take() does not accept boolean indexers\u001b[39;00m\n\u001b[0;32m   4111\u001b[0m \u001b[38;5;28;01mif\u001b[39;00m \u001b[38;5;28mgetattr\u001b[39m(indexer, \u001b[38;5;124m\"\u001b[39m\u001b[38;5;124mdtype\u001b[39m\u001b[38;5;124m\"\u001b[39m, \u001b[38;5;28;01mNone\u001b[39;00m) \u001b[38;5;241m==\u001b[39m \u001b[38;5;28mbool\u001b[39m:\n",
      "File \u001b[1;32m~\\anaconda3\\Lib\\site-packages\\pandas\\core\\indexes\\base.py:6200\u001b[0m, in \u001b[0;36mIndex._get_indexer_strict\u001b[1;34m(self, key, axis_name)\u001b[0m\n\u001b[0;32m   6197\u001b[0m \u001b[38;5;28;01melse\u001b[39;00m:\n\u001b[0;32m   6198\u001b[0m     keyarr, indexer, new_indexer \u001b[38;5;241m=\u001b[39m \u001b[38;5;28mself\u001b[39m\u001b[38;5;241m.\u001b[39m_reindex_non_unique(keyarr)\n\u001b[1;32m-> 6200\u001b[0m \u001b[38;5;28mself\u001b[39m\u001b[38;5;241m.\u001b[39m_raise_if_missing(keyarr, indexer, axis_name)\n\u001b[0;32m   6202\u001b[0m keyarr \u001b[38;5;241m=\u001b[39m \u001b[38;5;28mself\u001b[39m\u001b[38;5;241m.\u001b[39mtake(indexer)\n\u001b[0;32m   6203\u001b[0m \u001b[38;5;28;01mif\u001b[39;00m \u001b[38;5;28misinstance\u001b[39m(key, Index):\n\u001b[0;32m   6204\u001b[0m     \u001b[38;5;66;03m# GH 42790 - Preserve name from an Index\u001b[39;00m\n",
      "File \u001b[1;32m~\\anaconda3\\Lib\\site-packages\\pandas\\core\\indexes\\base.py:6252\u001b[0m, in \u001b[0;36mIndex._raise_if_missing\u001b[1;34m(self, key, indexer, axis_name)\u001b[0m\n\u001b[0;32m   6249\u001b[0m     \u001b[38;5;28;01mraise\u001b[39;00m \u001b[38;5;167;01mKeyError\u001b[39;00m(\u001b[38;5;124mf\u001b[39m\u001b[38;5;124m\"\u001b[39m\u001b[38;5;124mNone of [\u001b[39m\u001b[38;5;132;01m{\u001b[39;00mkey\u001b[38;5;132;01m}\u001b[39;00m\u001b[38;5;124m] are in the [\u001b[39m\u001b[38;5;132;01m{\u001b[39;00maxis_name\u001b[38;5;132;01m}\u001b[39;00m\u001b[38;5;124m]\u001b[39m\u001b[38;5;124m\"\u001b[39m)\n\u001b[0;32m   6251\u001b[0m not_found \u001b[38;5;241m=\u001b[39m \u001b[38;5;28mlist\u001b[39m(ensure_index(key)[missing_mask\u001b[38;5;241m.\u001b[39mnonzero()[\u001b[38;5;241m0\u001b[39m]]\u001b[38;5;241m.\u001b[39munique())\n\u001b[1;32m-> 6252\u001b[0m \u001b[38;5;28;01mraise\u001b[39;00m \u001b[38;5;167;01mKeyError\u001b[39;00m(\u001b[38;5;124mf\u001b[39m\u001b[38;5;124m\"\u001b[39m\u001b[38;5;132;01m{\u001b[39;00mnot_found\u001b[38;5;132;01m}\u001b[39;00m\u001b[38;5;124m not in index\u001b[39m\u001b[38;5;124m\"\u001b[39m)\n",
      "\u001b[1;31mKeyError\u001b[0m: \"['Country/Dependency'] not in index\""
     ]
    }
   ],
   "source": [
    "blood_distribution[['Country/Dependency', 'Continent', 'O+']].sort_values(by='O+', ascending=False).head(10)"
   ]
  },
  {
   "cell_type": "markdown",
   "id": "c230041a-2643-4d24-a334-8dbdee77a113",
   "metadata": {},
   "source": [
    "Countries in the Americas (North and South America) appear to dominate the O+ blood group chart, with 8 out of the top 10 countries from the region. The remaining 2 spots are occupied by African nations. Ecuador tops the chart, with 75% of its population having the O+ blood group. These countries exhibit unusually high percentages for this blood group, as no other blood group dominates a single nation as significantly as O+ does in these countries. The dominance of the O+ blood group in American countries could be down to genetic ancestry, limited genetic mixing and evolutionary selection."
   ]
  },
  {
   "cell_type": "code",
   "execution_count": null,
   "id": "b37684a5-b6f8-4dcc-9e3e-4e46a9dca99f",
   "metadata": {},
   "outputs": [],
   "source": [
    "blood_distribution[['Country/Dependency','Continent', 'A+']].sort_values(by='A+', ascending=False).head(10)"
   ]
  },
  {
   "cell_type": "markdown",
   "id": "8970b40a-dc9b-44c9-955d-1a47e367f127",
   "metadata": {},
   "source": [
    "Countries in Europe appear to dominate the A+ blood group chart, with 9 out of the top 10 countries from the region. The only spot left is occupied by Japan, an Asian nation. Armenia tops the chart, with 46.30% of its population having the A+ blood group. Japan’s population has unique genetic characteristics influenced by both East Asian and indigenous (Jomon) ancestry. The higher frequency of A+ in Japan might be due to founder effects or selective pressures unique to East Asia."
   ]
  },
  {
   "cell_type": "code",
   "execution_count": null,
   "id": "5d9f6423-5f14-45f1-aea5-5a64e0b7af8e",
   "metadata": {},
   "outputs": [],
   "source": [
    "blood_distribution[['Country/Dependency','Continent', 'B+']].sort_values(by='B+', ascending=False).head(10)"
   ]
  },
  {
   "cell_type": "markdown",
   "id": "f1ecbda7-5274-4e6d-ad85-44cfeebafe45",
   "metadata": {},
   "source": [
    "B+ appears to be the dominant blood group in Asian countries, as they occupy all ten spots in the top 10. This could be due to the historical intermixing within Asia and also due to the fact that B+ is rare in other regions."
   ]
  },
  {
   "cell_type": "code",
   "execution_count": null,
   "id": "4c0121e7-e7b9-4df2-97e5-8e5e1ba8dab5",
   "metadata": {},
   "outputs": [],
   "source": [
    "blood_distribution[['Country/Dependency','Continent', 'AB+']].sort_values(by='AB+', ascending=False).head(10)"
   ]
  },
  {
   "cell_type": "markdown",
   "id": "27ab8c14-80e5-452b-ae38-46a1702f321e",
   "metadata": {},
   "source": [
    "Asian Nations aslo domiate the AB+ chart, occupying 9 out of the top 10 spots"
   ]
  },
  {
   "cell_type": "code",
   "execution_count": null,
   "id": "2706a583-111a-475a-8d76-2ec8c22495fe",
   "metadata": {},
   "outputs": [],
   "source": [
    "blood_distribution[['Country/Dependency','Continent', 'O-']].sort_values(by='O-', ascending=False).head(10)"
   ]
  },
  {
   "cell_type": "markdown",
   "id": "3e39c8b4-069f-4861-a004-2ab826adba0c",
   "metadata": {},
   "source": [
    "The O− blood group appears to be more evenly distributed across continents compared to other blood groups, which tend to show regional dominance."
   ]
  },
  {
   "cell_type": "code",
   "execution_count": null,
   "id": "2ed64137-aacf-4fbf-ab45-7eb00c334887",
   "metadata": {},
   "outputs": [],
   "source": [
    "blood_distribution[['Country/Dependency','Continent', 'A-']].sort_values(by='A-', ascending=False).head(10)"
   ]
  },
  {
   "cell_type": "code",
   "execution_count": null,
   "id": "f5c05ab1-8fd2-4d63-8bdf-8fe0dc7f8706",
   "metadata": {},
   "outputs": [],
   "source": [
    "blood_distribution[['Country/Dependency','Continent', 'B-']].sort_values(by='B-', ascending=False).head(10)"
   ]
  },
  {
   "cell_type": "code",
   "execution_count": null,
   "id": "49f0e2e1-d613-4ca1-8564-453028cff35e",
   "metadata": {},
   "outputs": [],
   "source": [
    "blood_distribution[['Country/Dependency','Continent', 'AB-']].sort_values(by='AB-', ascending=False).head(10)"
   ]
  },
  {
   "cell_type": "markdown",
   "id": "9b83cf0a-8534-478b-a0f1-d645a9f080d7",
   "metadata": {},
   "source": [
    "# Top 10 Countries with the Lowest Percentage of Each Blood Group"
   ]
  },
  {
   "cell_type": "code",
   "execution_count": null,
   "id": "4cc33c16-316f-412f-9c24-3147f5e4a721",
   "metadata": {},
   "outputs": [],
   "source": [
    "blood_distribution[['Country/Dependency','Continent', 'O+']].sort_values(by='O+', ascending=True).head(10)"
   ]
  },
  {
   "cell_type": "code",
   "execution_count": null,
   "id": "56aabae5-104f-417a-ae32-ce39dde7de98",
   "metadata": {},
   "outputs": [],
   "source": [
    "blood_distribution[['Country/Dependency','Continent', 'A+']].sort_values(by='A+', ascending=True).head(10)"
   ]
  },
  {
   "cell_type": "code",
   "execution_count": null,
   "id": "811e83b8-295a-47be-817d-9780fd88207c",
   "metadata": {},
   "outputs": [],
   "source": [
    "blood_distribution[['Country/Dependency','Continent', 'B+']].sort_values(by='B+', ascending=True).head(10)"
   ]
  },
  {
   "cell_type": "code",
   "execution_count": null,
   "id": "9e973c65-a9d0-4e65-a189-da1c5a8874ad",
   "metadata": {},
   "outputs": [],
   "source": [
    "blood_distribution[['Country/Dependency','Continent', 'AB+']].sort_values(by='AB+', ascending=True).head(10)"
   ]
  },
  {
   "cell_type": "code",
   "execution_count": null,
   "id": "983259ac-762f-466d-8630-6ffb933f989c",
   "metadata": {},
   "outputs": [],
   "source": [
    "blood_distribution[['Country/Dependency','Continent', 'O-']].sort_values(by='O-', ascending=True).head(10)"
   ]
  },
  {
   "cell_type": "code",
   "execution_count": null,
   "id": "0ff0f1cd-7eee-48ca-975e-e854b0ff016f",
   "metadata": {},
   "outputs": [],
   "source": [
    "blood_distribution[['Country/Dependency','Continent', 'A-']].sort_values(by='A-', ascending=True).head(10)"
   ]
  },
  {
   "cell_type": "code",
   "execution_count": null,
   "id": "a6b2bc36-6ec0-4579-8c57-b08da7bf19c6",
   "metadata": {},
   "outputs": [],
   "source": [
    "blood_distribution[['Country/Dependency','Continent', 'B-']].sort_values(by='B-', ascending=True).head(10)"
   ]
  },
  {
   "cell_type": "code",
   "execution_count": null,
   "id": "a28932c3-be9d-4608-b5ed-a4553975df87",
   "metadata": {},
   "outputs": [],
   "source": [
    "blood_distribution[['Country/Dependency','Continent', 'AB-']].sort_values(by='AB-', ascending=True).head(10)"
   ]
  },
  {
   "cell_type": "markdown",
   "id": "8fa8e69a-0ffd-4cbf-9c8e-33ee821109c6",
   "metadata": {},
   "source": [
    "# Distribution Across Continents"
   ]
  },
  {
   "cell_type": "markdown",
   "id": "d0cf4865-a1eb-49ee-b3c0-781d170f2576",
   "metadata": {},
   "source": [
    "# Top Continents"
   ]
  },
  {
   "cell_type": "code",
   "execution_count": null,
   "id": "1c537ae7-9024-4a13-b7fd-b3587725dace",
   "metadata": {},
   "outputs": [],
   "source": [
    "round(blood_distribution.groupby('Continent')['O+'].mean().sort_values(ascending=False),2)"
   ]
  },
  {
   "cell_type": "code",
   "execution_count": null,
   "id": "3b6065b3-0679-403c-9b03-032f76d8d938",
   "metadata": {},
   "outputs": [],
   "source": [
    "round(blood_distribution.groupby('Continent')['A+'].mean().sort_values(ascending=False),2)"
   ]
  },
  {
   "cell_type": "code",
   "execution_count": null,
   "id": "d450690f-3461-4304-8c93-20f6776c0f67",
   "metadata": {},
   "outputs": [],
   "source": [
    "round(blood_distribution.groupby('Continent')['B+'].mean().sort_values(ascending=False),2)"
   ]
  },
  {
   "cell_type": "code",
   "execution_count": null,
   "id": "5fea9d6c-b4c3-46bb-a2ca-1af82f60ca61",
   "metadata": {},
   "outputs": [],
   "source": [
    "round(blood_distribution.groupby('Continent')['AB+'].mean().sort_values(ascending=False),2)"
   ]
  },
  {
   "cell_type": "code",
   "execution_count": null,
   "id": "2938d028-4b9f-473c-b05c-78810c1921b8",
   "metadata": {},
   "outputs": [],
   "source": [
    "round(blood_distribution.groupby('Continent')['O-'].mean().sort_values(ascending=False),2)"
   ]
  },
  {
   "cell_type": "code",
   "execution_count": null,
   "id": "034c9973-0dfe-4ee0-beb1-7532b11fde7b",
   "metadata": {},
   "outputs": [],
   "source": [
    "round(blood_distribution.groupby('Continent')['A-'].mean().sort_values(ascending=False),2)"
   ]
  },
  {
   "cell_type": "code",
   "execution_count": null,
   "id": "0e1fab8a-2cf4-4dd4-b20d-ef00ad0be20e",
   "metadata": {},
   "outputs": [],
   "source": [
    "round(blood_distribution.groupby('Continent')['B-'].mean().sort_values(ascending=False),2)"
   ]
  },
  {
   "cell_type": "code",
   "execution_count": null,
   "id": "0123b2a1-82e3-41ae-8e34-97400531b263",
   "metadata": {},
   "outputs": [],
   "source": [
    "round(blood_distribution.groupby('Continent')['AB-'].mean().sort_values(ascending=False),2)"
   ]
  },
  {
   "cell_type": "markdown",
   "id": "8dfe744b-5b7f-4ec0-a0d5-2c95fb5c1c14",
   "metadata": {},
   "source": [
    "# Bottom Continents"
   ]
  },
  {
   "cell_type": "code",
   "execution_count": null,
   "id": "07150508-8f5f-4e1e-8192-d33c9671cd5a",
   "metadata": {},
   "outputs": [],
   "source": [
    "round(blood_distribution.groupby('Continent')['O+'].mean().sort_values(ascending=True),2)"
   ]
  },
  {
   "cell_type": "code",
   "execution_count": null,
   "id": "273a6ef4-013e-4c6e-acc7-aef4032b0f70",
   "metadata": {},
   "outputs": [],
   "source": [
    "round(blood_distribution.groupby('Continent')['A+'].mean().sort_values(ascending=True),2)"
   ]
  },
  {
   "cell_type": "code",
   "execution_count": null,
   "id": "2038b346-f3e1-4a06-8559-e09bf6ed3964",
   "metadata": {},
   "outputs": [],
   "source": [
    "round(blood_distribution.groupby('Continent')['B+'].mean().sort_values(ascending=True),2)"
   ]
  },
  {
   "cell_type": "code",
   "execution_count": null,
   "id": "6b140b7f-2ad2-4411-bd2f-95fa900aeb52",
   "metadata": {},
   "outputs": [],
   "source": [
    "round(blood_distribution.groupby('Continent')['AB+'].mean().sort_values(ascending=True),2)"
   ]
  },
  {
   "cell_type": "code",
   "execution_count": null,
   "id": "61528742-c1ac-400f-8926-e4c3b459bed6",
   "metadata": {},
   "outputs": [],
   "source": [
    "round(blood_distribution.groupby('Continent')['O-'].mean().sort_values(ascending=True),2)"
   ]
  },
  {
   "cell_type": "code",
   "execution_count": null,
   "id": "aa7ca529-4f08-4631-a56c-403d3bd26095",
   "metadata": {},
   "outputs": [],
   "source": [
    "round(blood_distribution.groupby('Continent')['A-'].mean().sort_values(ascending=True),2)"
   ]
  },
  {
   "cell_type": "code",
   "execution_count": null,
   "id": "8d72e07a-2591-4d8f-88e4-fadd8236853b",
   "metadata": {},
   "outputs": [],
   "source": [
    "round(blood_distribution.groupby('Continent')['B-'].mean().sort_values(ascending=True),2)"
   ]
  },
  {
   "cell_type": "code",
   "execution_count": null,
   "id": "0a3574ae-66e8-43a0-a5e6-ec7e1e99fcac",
   "metadata": {},
   "outputs": [],
   "source": [
    "round(blood_distribution.groupby('Continent')['AB-'].mean().sort_values(ascending=True),2)"
   ]
  },
  {
   "cell_type": "code",
   "execution_count": null,
   "id": "bf1c0276-a253-4856-9ff9-84377a8d9aa9",
   "metadata": {},
   "outputs": [],
   "source": [
    "no_Op = blood_distribution['O+']*(blood_distribution['Population']/100)\n",
    "no_Ap = blood_distribution['A+']*(blood_distribution['Population']/100)\n",
    "no_Bp = blood_distribution['B+']*(blood_distribution['Population']/100)\n",
    "no_ABp = blood_distribution['AB+']*(blood_distribution['Population']/100)\n",
    "no_On = blood_distribution['O-']*(blood_distribution['Population']/100)\n",
    "no_An = blood_distribution['A-']*(blood_distribution['Population']/100)\n",
    "no_Bn = blood_distribution['B-']*(blood_distribution['Population']/100)\n",
    "no_ABn = blood_distribution['AB-']*(blood_distribution['Population']/100)\n",
    "\n",
    "total_Op = no_Op.sum()\n",
    "total_Ap = no_Ap.sum()\n",
    "total_Bp = no_Bp.sum()\n",
    "total_ABp = no_ABp.sum()\n",
    "total_On = no_On.sum()\n",
    "total_An = no_An.sum()\n",
    "total_Bn = no_Bn.sum()\n",
    "total_ABn = no_ABn.sum()\n",
    "\n",
    "\n",
    "perc_Op=round(((total_Op/total_population)*100),2)\n",
    "perc_Ap=round(((total_Ap/total_population)*100),2)\n",
    "perc_Bp=round(((total_Bp/total_population)*100),2)\n",
    "perc_ABp=round(((total_ABp/total_population)*100),2)\n",
    "perc_On=round(((total_On/total_population)*100),2)\n",
    "perc_An=round(((total_An/total_population)*100),2)\n",
    "perc_Bn=round(((total_Bn/total_population)*100),2)\n",
    "perc_ABn=round(((total_ABn/total_population)*100),2)"
   ]
  },
  {
   "cell_type": "code",
   "execution_count": null,
   "id": "96d2c0ba-00d9-476d-bc68-69a3da984e9a",
   "metadata": {},
   "outputs": [],
   "source": [
    "print(f\"Percentage of the population with O+ blood group is {perc_Op}%\")\n",
    "print(f\"Percentage of the population with A+ blood group is {perc_Ap}%\")\n",
    "print(f\"Percentage of the population with B+ blood group is {perc_Bp}%\")\n",
    "print(f\"Percentage of the population with AB+ blood group is {perc_ABp}%\")\n",
    "print(f\"Percentage of the population with O- blood group is {perc_On}%\")\n",
    "print(f\"Percentage of the population with A- blood group is {perc_An}%\")\n",
    "print(f\"Percentage of the population with B- blood group is {perc_Bn}%\")\n",
    "print(f\"Percentage of the population with AB- blood group is {perc_ABn}%\")"
   ]
  },
  {
   "cell_type": "markdown",
   "id": "7d6ae26c-a743-4ef5-8a52-69948d7a9135",
   "metadata": {},
   "source": [
    "The least common blood group is AB- with a total population of 0.39% having it while the most common is O+ with a total population size of 37.32%. It is also observed that the Rh- blood groups are not as common as the Rh+"
   ]
  }
 ],
 "metadata": {
  "kernelspec": {
   "display_name": "Python [conda env:base] *",
   "language": "python",
   "name": "conda-base-py"
  },
  "language_info": {
   "codemirror_mode": {
    "name": "ipython",
    "version": 3
   },
   "file_extension": ".py",
   "mimetype": "text/x-python",
   "name": "python",
   "nbconvert_exporter": "python",
   "pygments_lexer": "ipython3",
   "version": "3.12.7"
  }
 },
 "nbformat": 4,
 "nbformat_minor": 5
}
